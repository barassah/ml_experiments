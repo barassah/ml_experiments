{
  "nbformat": 4,
  "nbformat_minor": 0,
  "metadata": {
    "colab": {
      "provenance": [],
      "authorship_tag": "ABX9TyMEmg1u0srPXoQzP0ocqtQQ",
      "include_colab_link": true
    },
    "kernelspec": {
      "name": "python3",
      "display_name": "Python 3"
    },
    "language_info": {
      "name": "python"
    }
  },
  "cells": [
    {
      "cell_type": "markdown",
      "metadata": {
        "id": "view-in-github",
        "colab_type": "text"
      },
      "source": [
        "<a href=\"https://colab.research.google.com/github/barassah/ml_experiments/blob/main/Dataset_Generation.ipynb\" target=\"_parent\"><img src=\"https://colab.research.google.com/assets/colab-badge.svg\" alt=\"Open In Colab\"/></a>"
      ]
    },
    {
      "cell_type": "code",
      "execution_count": null,
      "metadata": {
        "colab": {
          "base_uri": "https://localhost:8080/"
        },
        "id": "FzhuikqLy0xs",
        "outputId": "790cd3d6-3d7b-4129-abb1-28f508c6874a"
      },
      "outputs": [
        {
          "output_type": "stream",
          "name": "stdout",
          "text": [
            "Synthetic dataset generated successfully!\n"
          ]
        }
      ],
      "source": [
        "import pandas as pd\n",
        "import random\n",
        "\n",
        "# Define the number of samples\n",
        "num_samples = 10000\n",
        "\n",
        "# Generate synthetic data\n",
        "data = {\n",
        "    \"Review_ID\": [f\"R{i:06d}\" for i in range(1, num_samples + 1)],\n",
        "    \"User_ID\": [f\"U{random.randint(1000, 9999)}\" for _ in range(num_samples)],\n",
        "    \"Review_Text\": [\n",
        "        random.choice([\n",
        "            \"Great product, highly recommend!\", \"Terrible quality, do not buy.\",\n",
        "            \"Fast shipping, good service.\", \"Worst experience ever!\",\n",
        "            \"Exceeded my expectations, will buy again.\"\n",
        "        ]) for _ in range(num_samples)\n",
        "    ],\n",
        "    \"Rating\": [random.randint(1, 5) for _ in range(num_samples)],\n",
        "    \"Review_Length\": [random.randint(10, 200) for _ in range(num_samples)],\n",
        "    \"Polarity_Score\": [round(random.uniform(-1, 1), 2) for _ in range(num_samples)],\n",
        "    \"Reviewer_Activity\": [random.randint(1, 500) for _ in range(num_samples)],\n",
        "    \"Fake_Label\": [random.choice([0, 1]) for _ in range(num_samples)]\n",
        "}\n",
        "\n",
        "# Create DataFrame\n",
        "df_synthetic = pd.DataFrame(data)\n",
        "\n",
        "# Save to CSV\n",
        "df_synthetic.to_csv(\"synthetic_fake_reviews.csv\", index=False)\n",
        "\n",
        "print(\"Synthetic dataset generated successfully!\")"
      ]
    },
    {
      "cell_type": "code",
      "source": [
        "from google.colab import files\n",
        "df_synthetic.to_csv('synthetic_fake_reviews.csv')\n",
        "files.download('synthetic_fake_reviews.csv')"
      ],
      "metadata": {
        "colab": {
          "base_uri": "https://localhost:8080/",
          "height": 17
        },
        "id": "EjQuZzg6y-gl",
        "outputId": "9a76306d-e911-40a4-9e0d-66fef989c98e"
      },
      "execution_count": null,
      "outputs": [
        {
          "output_type": "display_data",
          "data": {
            "text/plain": [
              "<IPython.core.display.Javascript object>"
            ],
            "application/javascript": [
              "\n",
              "    async function download(id, filename, size) {\n",
              "      if (!google.colab.kernel.accessAllowed) {\n",
              "        return;\n",
              "      }\n",
              "      const div = document.createElement('div');\n",
              "      const label = document.createElement('label');\n",
              "      label.textContent = `Downloading \"${filename}\": `;\n",
              "      div.appendChild(label);\n",
              "      const progress = document.createElement('progress');\n",
              "      progress.max = size;\n",
              "      div.appendChild(progress);\n",
              "      document.body.appendChild(div);\n",
              "\n",
              "      const buffers = [];\n",
              "      let downloaded = 0;\n",
              "\n",
              "      const channel = await google.colab.kernel.comms.open(id);\n",
              "      // Send a message to notify the kernel that we're ready.\n",
              "      channel.send({})\n",
              "\n",
              "      for await (const message of channel.messages) {\n",
              "        // Send a message to notify the kernel that we're ready.\n",
              "        channel.send({})\n",
              "        if (message.buffers) {\n",
              "          for (const buffer of message.buffers) {\n",
              "            buffers.push(buffer);\n",
              "            downloaded += buffer.byteLength;\n",
              "            progress.value = downloaded;\n",
              "          }\n",
              "        }\n",
              "      }\n",
              "      const blob = new Blob(buffers, {type: 'application/binary'});\n",
              "      const a = document.createElement('a');\n",
              "      a.href = window.URL.createObjectURL(blob);\n",
              "      a.download = filename;\n",
              "      div.appendChild(a);\n",
              "      a.click();\n",
              "      div.remove();\n",
              "    }\n",
              "  "
            ]
          },
          "metadata": {}
        },
        {
          "output_type": "display_data",
          "data": {
            "text/plain": [
              "<IPython.core.display.Javascript object>"
            ],
            "application/javascript": [
              "download(\"download_ceee78f6-554d-4146-b017-a09011c62665\", \"synthetic_fake_reviews.csv\", 684885)"
            ]
          },
          "metadata": {}
        }
      ]
    },
    {
      "cell_type": "code",
      "source": [
        "pip install Faker"
      ],
      "metadata": {
        "colab": {
          "base_uri": "https://localhost:8080/"
        },
        "id": "UMPbANZh1aIi",
        "outputId": "bab9b52c-020f-48e9-c504-c8303758a84c"
      },
      "execution_count": null,
      "outputs": [
        {
          "output_type": "stream",
          "name": "stdout",
          "text": [
            "Collecting Faker\n",
            "  Downloading Faker-35.2.0-py3-none-any.whl.metadata (15 kB)\n",
            "Requirement already satisfied: python-dateutil>=2.4 in /usr/local/lib/python3.11/dist-packages (from Faker) (2.8.2)\n",
            "Requirement already satisfied: typing-extensions in /usr/local/lib/python3.11/dist-packages (from Faker) (4.12.2)\n",
            "Requirement already satisfied: six>=1.5 in /usr/local/lib/python3.11/dist-packages (from python-dateutil>=2.4->Faker) (1.17.0)\n",
            "Downloading Faker-35.2.0-py3-none-any.whl (1.9 MB)\n",
            "\u001b[2K   \u001b[90m━━━━━━━━━━━━━━━━━━━━━━━━━━━━━━━━━━━━━━━━\u001b[0m \u001b[32m1.9/1.9 MB\u001b[0m \u001b[31m16.3 MB/s\u001b[0m eta \u001b[36m0:00:00\u001b[0m\n",
            "\u001b[?25hInstalling collected packages: Faker\n",
            "Successfully installed Faker-35.2.0\n"
          ]
        }
      ]
    },
    {
      "cell_type": "code",
      "source": [
        "import pandas as pd\n",
        "import random\n",
        "from faker import Faker\n",
        "\n",
        "# Initialize Faker to generate fake user details\n",
        "fake = Faker()\n",
        "\n",
        "# Define the number of samples\n",
        "num_samples = 10000\n",
        "\n",
        "# Sample review texts\n",
        "review_texts = {\n",
        "    \"positive\": [\n",
        "        \"Absolutely loved this product! Highly recommend it.\",\n",
        "        \"Great quality and fast shipping. Five stars!\",\n",
        "        \"Exceeded my expectations. Will buy again!\",\n",
        "        \"Fantastic customer service and amazing experience.\"\n",
        "    ],\n",
        "    \"neutral\": [\n",
        "        \"It’s okay, nothing special but not bad either.\",\n",
        "        \"The product was decent, but I expected better.\",\n",
        "        \"Average experience, nothing to complain about.\",\n",
        "        \"Neutral on this one, just alright.\"\n",
        "    ],\n",
        "    \"negative\": [\n",
        "        \"Terrible experience, would not recommend.\",\n",
        "        \"Poor quality and late delivery. Very disappointed.\",\n",
        "        \"Not worth the money at all. Stay away!\",\n",
        "        \"Customer service was unhelpful, bad experience.\"\n",
        "    ]\n",
        "}\n",
        "\n",
        "# Generate synthetic data\n",
        "data = []\n",
        "\n",
        "for i in range(num_samples):\n",
        "    review_id = f\"R{i:06d}\"\n",
        "    user_id = f\"U{random.randint(1000, 99999)}\"\n",
        "\n",
        "    sentiment = random.choice([\"positive\", \"neutral\", \"negative\"])\n",
        "    review_text = random.choice(review_texts[sentiment])\n",
        "\n",
        "    rating = random.randint(1, 5) if sentiment != \"neutral\" else 3\n",
        "    review_length = len(review_text.split())\n",
        "    polarity_score = round(random.uniform(-1, 1), 2) if sentiment != \"neutral\" else 0\n",
        "    reviewer_activity = random.randint(1, 500)\n",
        "    platform = random.choice([\"Twitter\", \"Facebook\", \"Yelp\", \"Amazon\", \"Google Reviews\"])\n",
        "    timestamp = fake.date_time_this_year()\n",
        "\n",
        "    data.append([review_id, user_id, review_text, rating, review_length, sentiment, polarity_score, reviewer_activity, platform, timestamp])\n",
        "\n",
        "# Create DataFrame\n",
        "df_synthetic = pd.DataFrame(data, columns=[\"Review_ID\", \"User_ID\", \"Review_Text\", \"Rating\", \"Review_Length\", \"Sentiment\", \"Polarity_Score\", \"Reviewer_Activity\", \"Platform\", \"Timestamp\"])\n",
        "\n",
        "# Save to CSV\n",
        "df_synthetic.to_csv(\"synthetic_social_reviews.csv\", index=False)\n",
        "\n",
        "print(\"Synthetic social media review dataset generated successfully!\")"
      ],
      "metadata": {
        "colab": {
          "base_uri": "https://localhost:8080/"
        },
        "id": "2D5i4p-HzqtK",
        "outputId": "a359d7a5-bf67-4d36-81d1-1115f9253e05"
      },
      "execution_count": null,
      "outputs": [
        {
          "output_type": "stream",
          "name": "stdout",
          "text": [
            "Synthetic social media review dataset generated successfully!\n"
          ]
        }
      ]
    },
    {
      "cell_type": "code",
      "source": [
        "from google.colab import files\n",
        "df_synthetic.to_csv('synthetic_social_reviews.csv')\n",
        "files.download('synthetic_social_reviews.csv')"
      ],
      "metadata": {
        "colab": {
          "base_uri": "https://localhost:8080/",
          "height": 17
        },
        "id": "NlqN4bSs1H7S",
        "outputId": "33f59f46-f39d-47fd-c0c8-3109728c5a9b"
      },
      "execution_count": null,
      "outputs": [
        {
          "output_type": "display_data",
          "data": {
            "text/plain": [
              "<IPython.core.display.Javascript object>"
            ],
            "application/javascript": [
              "\n",
              "    async function download(id, filename, size) {\n",
              "      if (!google.colab.kernel.accessAllowed) {\n",
              "        return;\n",
              "      }\n",
              "      const div = document.createElement('div');\n",
              "      const label = document.createElement('label');\n",
              "      label.textContent = `Downloading \"${filename}\": `;\n",
              "      div.appendChild(label);\n",
              "      const progress = document.createElement('progress');\n",
              "      progress.max = size;\n",
              "      div.appendChild(progress);\n",
              "      document.body.appendChild(div);\n",
              "\n",
              "      const buffers = [];\n",
              "      let downloaded = 0;\n",
              "\n",
              "      const channel = await google.colab.kernel.comms.open(id);\n",
              "      // Send a message to notify the kernel that we're ready.\n",
              "      channel.send({})\n",
              "\n",
              "      for await (const message of channel.messages) {\n",
              "        // Send a message to notify the kernel that we're ready.\n",
              "        channel.send({})\n",
              "        if (message.buffers) {\n",
              "          for (const buffer of message.buffers) {\n",
              "            buffers.push(buffer);\n",
              "            downloaded += buffer.byteLength;\n",
              "            progress.value = downloaded;\n",
              "          }\n",
              "        }\n",
              "      }\n",
              "      const blob = new Blob(buffers, {type: 'application/binary'});\n",
              "      const a = document.createElement('a');\n",
              "      a.href = window.URL.createObjectURL(blob);\n",
              "      a.download = filename;\n",
              "      div.appendChild(a);\n",
              "      a.click();\n",
              "      div.remove();\n",
              "    }\n",
              "  "
            ]
          },
          "metadata": {}
        },
        {
          "output_type": "display_data",
          "data": {
            "text/plain": [
              "<IPython.core.display.Javascript object>"
            ],
            "application/javascript": [
              "download(\"download_37ca070c-ff96-46ca-b5a2-74c34a6d46d8\", \"synthetic_social_reviews.csv\", 1236678)"
            ]
          },
          "metadata": {}
        }
      ]
    },
    {
      "cell_type": "code",
      "source": [],
      "metadata": {
        "id": "BPmUD0l61k1G"
      },
      "execution_count": null,
      "outputs": []
    }
  ]
}